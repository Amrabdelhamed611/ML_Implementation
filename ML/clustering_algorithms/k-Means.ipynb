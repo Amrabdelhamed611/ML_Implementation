{
 "cells": [
  {
   "cell_type": "markdown",
   "id": "fZUaO_k6NwcK",
   "metadata": {
    "id": "fZUaO_k6NwcK"
   },
   "source": [
    "# Clustering Problem \n",
    "## KMeans\n",
    "### *What is A Cluster?*\n",
    "A cluster refers to a collection of data points aggregated together because of certain similarities.\n",
    "### *What is KMEANS?*\n",
    "You’ll define a target number k, which refers to the number of centroids you need in the dataset. A centroid is the imaginary or real location representing the center of the cluster.\n",
    "Every data point is allocated to each of the clusters through reducing the in-cluster sum of squares.\n",
    "In other words, the K-means algorithm identifies k number of centroids, and then allocates every data point to the nearest cluster, while keeping the centroids as small as possible.\n",
    "The ‘means’ in the K-means refers to averaging of the data; that is, finding the centroid."
   ]
  },
  {
   "cell_type": "markdown",
   "id": "rpUGa0boOLV6",
   "metadata": {
    "id": "rpUGa0boOLV6"
   },
   "source": [
    "### *How KMeans Works?*\n",
    "To process the learning data, the K-means algorithm in data mining starts with a first group of randomly selected centroids, which are used as the beginning points for every cluster, and then performs iterative (repetitive) calculations to optimize the positions of the centroids\n",
    "It halts creating and optimizing clusters when either:\n",
    "* The centroids have stabilized — there is no change in their values because the clustering has been successful.\n",
    "* The defined number of iterations has been achieved.\n"
   ]
  },
  {
   "cell_type": "markdown",
   "id": "w1aZsEkSObi_",
   "metadata": {
    "id": "w1aZsEkSObi_"
   },
   "source": [
    "# KMeans Algorithm"
   ]
  },
  {
   "cell_type": "code",
   "execution_count": 1,
   "id": "ee00c2c3",
   "metadata": {
    "ExecuteTime": {
     "end_time": "2022-04-17T23:58:45.652540Z",
     "start_time": "2022-04-17T23:58:39.312306Z"
    },
    "id": "ee00c2c3"
   },
   "outputs": [],
   "source": [
    "# used for manipulating directory paths\n",
    "import os\n",
    "import numpy as np\n",
    "\n",
    "import matplotlib.pyplot  as plt\n",
    "\n",
    "from scipy.io import loadmat\n",
    "\n",
    "import time\n",
    "\n",
    "%matplotlib inline"
   ]
  },
  {
   "cell_type": "code",
   "execution_count": 2,
   "id": "331d3a1a",
   "metadata": {
    "ExecuteTime": {
     "end_time": "2022-04-17T23:58:45.712259Z",
     "start_time": "2022-04-17T23:58:45.652540Z"
    },
    "id": "331d3a1a"
   },
   "outputs": [],
   "source": [
    "def findClosestCentroids(X, centroids):\n",
    "    \"\"\"\n",
    "    Computes the centroid memberships for every example.\n",
    "    \n",
    "    Parameters\n",
    "    ----------\n",
    "    X : array_like\n",
    "        The dataset of size (m, n) where each row is a single example. \n",
    "        That is, we have m examples each of n dimensions.\n",
    "        \n",
    "    centroids : array_like\n",
    "        The k-means centroids of size (K, n). K is the number\n",
    "        of clusters, and n is the the data dimension.\n",
    "    \n",
    "    Returns\n",
    "    -------\n",
    "    idx : array_like\n",
    "        A vector of size (m, ) which holds the centroids assignment for each\n",
    "        example (row) in the dataset X.\n",
    "    \n",
    "    Instructions\n",
    "    ------------\n",
    "    Go over every example, find its closest centroid, and store\n",
    "    the index inside `idx` at the appropriate location.\n",
    "    Concretely, idx[i] should contain the index of the centroid\n",
    "    closest to example i. Hence, it should be a value in the \n",
    "    range 0..K-1\n",
    "\n",
    "    Note\n",
    "    ----\n",
    "    You can use a for-loop over the examples to compute this.\n",
    "    \"\"\"\n",
    "    # Set K\n",
    "    K = centroids.shape[0]\n",
    "\n",
    "    # You need to return the following variables correctly.\n",
    "    idx = np.zeros(X.shape[0], dtype=int)\n",
    "    idx = np.argmin( np.stack([np.abs(((X-centroids[i])**2).sum(axis=1)) for i in range(0,K)],axis=1),axis = 1)\n",
    "    return idx"
   ]
  },
  {
   "cell_type": "code",
   "execution_count": 3,
   "id": "67a4cab2",
   "metadata": {
    "ExecuteTime": {
     "end_time": "2022-04-17T23:58:45.827327Z",
     "start_time": "2022-04-17T23:58:45.712259Z"
    },
    "id": "67a4cab2"
   },
   "outputs": [],
   "source": [
    "def computeCentroids(X, idx, K):\n",
    "    \"\"\"\n",
    "    Returns the new centroids by computing the means of the data points\n",
    "    assigned to each centroid.\n",
    "    \n",
    "    Parameters\n",
    "    ----------\n",
    "    X : array_like\n",
    "        The datset where each row is a single data point. That is, it \n",
    "        is a matrix of size (m, n) where there are m datapoints each\n",
    "        having n dimensions. \n",
    "    \n",
    "    idx : array_like \n",
    "        A vector (size m) of centroid assignments (i.e. each entry in range [0 ... K-1])\n",
    "        for each example.\n",
    "    \n",
    "    K : int\n",
    "        Number of clusters\n",
    "    \n",
    "    Returns\n",
    "    -------\n",
    "    centroids : array_like\n",
    "        A matrix of size (K, n) where each row is the mean of the data \n",
    "        points assigned to it.\n",
    "    \n",
    "    Instructions\n",
    "    ------------\n",
    "    Go over every centroid and compute mean of all points that\n",
    "    belong to it. Concretely, the row vector centroids[i, :]\n",
    "    should contain the mean of the data points assigned to\n",
    "    cluster i.\n",
    "\n",
    "    Note:\n",
    "    -----\n",
    "    You can use a for-loop over the centroids to compute this.\n",
    "    \"\"\"\n",
    "    m, n = X.shape\n",
    "    centroids = np.zeros((K, n))\n",
    "    centroids = np.stack([X[idx==i].mean(axis= 0)for i in range(0,K)],axis= 0)\n",
    "    return centroids"
   ]
  },
  {
   "cell_type": "code",
   "execution_count": 4,
   "id": "e9a6baa6",
   "metadata": {
    "ExecuteTime": {
     "end_time": "2022-04-17T23:58:45.901641Z",
     "start_time": "2022-04-17T23:58:45.827327Z"
    },
    "id": "e9a6baa6"
   },
   "outputs": [],
   "source": [
    "def runkMeans(X, centroids, findClosestCentroids, computeCentroids,\n",
    "              max_iters=10,ploting=False):\n",
    "    \"\"\"\n",
    "    Runs the K-means algorithm.\n",
    "\n",
    "    Parameters\n",
    "    ----------\n",
    "    X : array_like\n",
    "        The data set of size (m, n). Each row of X is a single example of n dimensions. The\n",
    "        data set is a total of m examples.\n",
    "\n",
    "    centroids : array_like\n",
    "        Initial centroid location for each clusters. This is a matrix of size (K, n). K is the total\n",
    "        number of clusters and n is the dimensions of each data point.\n",
    "\n",
    "    findClosestCentroids : func\n",
    "        A function (implemented by student) reference which computes the cluster assignment for\n",
    "        each example.\n",
    "\n",
    "    computeCentroids : func\n",
    "        A function(implemented by student) reference which computes the centroid of each cluster.\n",
    "\n",
    "    max_iters : int, optional\n",
    "        Specifies the total number of interactions of K-Means to execute.\n",
    "\n",
    "\n",
    "    Returns\n",
    "    -------\n",
    "    centroids : array_like\n",
    "        A (K x n) matrix of the computed (updated) centroids.\n",
    "    idx : array_like\n",
    "        A vector of size (m,) for cluster assignment for each example in the dataset. Each entry\n",
    "        in idx is within the range [0 ... K-1].\n",
    "\n",
    " \n",
    "    \"\"\"\n",
    "    K = centroids.shape[0]\n",
    "    idx = None\n",
    "    idx_history = []\n",
    "    centroid_history = []\n",
    "\n",
    "    for i in range(max_iters):\n",
    "        idx = findClosestCentroids(X, centroids)\n",
    "\n",
    "        idx_history.append(idx)\n",
    "        centroid_history.append(centroids)\n",
    "\n",
    "        centroids = computeCentroids(X, idx, K)\n",
    "        if ploting==True:\n",
    "           plot(X[:,0],X[:,1],centroids,\"Ploting Centroids while updating them\")\n",
    "        \n",
    "\n",
    "    return centroids, idx, centroid_history,idx_history"
   ]
  },
  {
   "cell_type": "code",
   "execution_count": 5,
   "id": "711bef9d",
   "metadata": {
    "ExecuteTime": {
     "end_time": "2022-04-17T23:58:45.986114Z",
     "start_time": "2022-04-17T23:58:45.907170Z"
    },
    "id": "711bef9d"
   },
   "outputs": [],
   "source": [
    "def plot(x,y,centroids,title_plot):\n",
    "      \"\"\"\n",
    "        Ploting Function used to plot the data with the centroids\n",
    "\n",
    "        Args:\n",
    "        ----------\n",
    "            x: array-Like\n",
    "            Containing the X-axis values\n",
    "            y: array-Like\n",
    "            Containing the Y-axis values\n",
    "            centroids: array_like\n",
    "              A (K x n) matrix of the computed (updated) centroids\n",
    "      \"\"\"\n",
    "      plt.scatter(x,y)\n",
    "      ## add final centriods\n",
    "      plt.plot(centroids[0][0],centroids[0][1],marker=\"v\",color='r')\n",
    "      plt.plot(centroids[1][0],centroids[1][1],marker=\"v\",color='k')\n",
    "      plt.plot(centroids[2][0],centroids[2][1],marker=\"v\",color='y')\n",
    "      plt.legend([\"C1\",\"C2\",\"C3\"])\n",
    "      plt.xlabel(\"X\")\n",
    "      plt.ylabel(\"Y\")\n",
    "      plt.title(title_plot);"
   ]
  },
  {
   "cell_type": "code",
   "execution_count": 6,
   "id": "c7230abb",
   "metadata": {
    "ExecuteTime": {
     "end_time": "2022-04-17T23:58:47.352337Z",
     "start_time": "2022-04-17T23:58:45.992162Z"
    },
    "colab": {
     "base_uri": "https://localhost:8080/",
     "height": 295
    },
    "id": "c7230abb",
    "outputId": "fa35f799-f487-4e7c-cae4-447b13a96702"
   },
   "outputs": [
    {
     "data": {
      "image/png": "[encoded data removed]",
      "text/plain": [
       "<Figure size 432x288 with 1 Axes>"
      ]
     },
     "metadata": {
      "needs_background": "light"
     },
     "output_type": "display_data"
    }
   ],
   "source": [
    "\n",
    "data = loadmat('ex7data2.mat')\n",
    "X = data['X']\n",
    "x=X[:,0]\n",
    "y=X[:,1]\n",
    "K = 3   # 3 Centroids\n",
    "initial_centroids = np.array([[3, 3], [6, 2], [8, 5]])\n",
    "plot(x,y,initial_centroids,title_plot=\"Initial Centroid place\")\n",
    "\n"
   ]
  },
  {
   "cell_type": "code",
   "execution_count": 7,
   "id": "c6E_4pj-JMVT",
   "metadata": {
    "ExecuteTime": {
     "end_time": "2022-04-17T23:58:48.032203Z",
     "start_time": "2022-04-17T23:58:47.352337Z"
    },
    "colab": {
     "base_uri": "https://localhost:8080/",
     "height": 345
    },
    "id": "c6E_4pj-JMVT",
    "outputId": "72d2b7c6-0572-41ee-93e0-5c38ff1a8888"
   },
   "outputs": [
    {
     "name": "stdout",
     "output_type": "stream",
     "text": [
      "Closest centroids for the first 3 examples:\n",
      "[0 2 1]\n",
      "(the closest centroids should be 0, 2, 1 respectively)\n"
     ]
    },
    {
     "data": {
      "image/png": "[encoded data removed]",
      "text/plain": [
       "<Figure size 432x288 with 1 Axes>"
      ]
     },
     "metadata": {
      "needs_background": "light"
     },
     "output_type": "display_data"
    }
   ],
   "source": [
    "# Find the closest centroids for the examples using the initial_centroids\n",
    "idx = findClosestCentroids(X, initial_centroids)\n",
    "runkMeans(X, initial_centroids, findClosestCentroids, computeCentroids,\n",
    "              max_iters=10,ploting=True)\n",
    "\n",
    "print('Closest centroids for the first 3 examples:')\n",
    "print(idx[:3])\n",
    "print('(the closest centroids should be 0, 2, 1 respectively)')\n"
   ]
  },
  {
   "cell_type": "code",
   "execution_count": 8,
   "id": "dc4baafd",
   "metadata": {
    "ExecuteTime": {
     "end_time": "2022-04-17T23:58:48.417105Z",
     "start_time": "2022-04-17T23:58:48.032203Z"
    },
    "id": "dc4baafd"
   },
   "outputs": [
    {
     "data": {
      "image/png": "[encoded data removed]",
      "text/plain": [
       "<Figure size 432x288 with 1 Axes>"
      ]
     },
     "metadata": {
      "needs_background": "light"
     },
     "output_type": "display_data"
    }
   ],
   "source": [
    "centroids, idx, centroid_history,idx_history=runkMeans(X, initial_centroids, findClosestCentroids, computeCentroids,\n",
    "              max_iters=10,ploting=False)\n",
    "plot(x,y,centroids,\"Ploting The Final Centroids Places\")\n"
   ]
  }
 ],
 "metadata": {
  "colab": {
   "collapsed_sections": [],
   "name": "kmeans.ipynb",
   "provenance": []
  },
  "kernelspec": {
   "display_name": "Python 3 (ipykernel)",
   "language": "python",
   "name": "python3"
  },
  "language_info": {
   "codemirror_mode": {
    "name": "ipython",
    "version": 3
   },
   "file_extension": ".py",
   "mimetype": "text/x-python",
   "name": "python",
   "nbconvert_exporter": "python",
   "pygments_lexer": "ipython3",
   "version": "3.8.13"
  },
  "toc": {
   "base_numbering": 1,
   "nav_menu": {},
   "number_sections": true,
   "sideBar": true,
   "skip_h1_title": false,
   "title_cell": "Table of Contents",
   "title_sidebar": "Contents",
   "toc_cell": false,
   "toc_position": {},
   "toc_section_display": true,
   "toc_window_display": false
  }
 },
 "nbformat": 4,
 "nbformat_minor": 5
}
